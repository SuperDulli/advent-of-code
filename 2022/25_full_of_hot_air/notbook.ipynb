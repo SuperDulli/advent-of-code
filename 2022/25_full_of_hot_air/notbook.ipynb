{
 "cells": [
  {
   "cell_type": "code",
   "execution_count": 43,
   "metadata": {},
   "outputs": [],
   "source": [
    "def read_file(file_name):\n",
    "\twith open(file_name, \"r\") as f:\n",
    "\t\tdata = f.read().splitlines()\n",
    "\treturn data\n"
   ]
  },
  {
   "cell_type": "code",
   "execution_count": 44,
   "metadata": {},
   "outputs": [],
   "source": [
    "EXAMPLE_FILE = \"example\"\n",
    "INPUT_FILE = \"input\"\n"
   ]
  },
  {
   "cell_type": "code",
   "execution_count": 45,
   "metadata": {},
   "outputs": [
    {
     "name": "stdout",
     "output_type": "stream",
     "text": [
      "1747 23442\n",
      "1562\n",
      "101214\n"
     ]
    }
   ],
   "source": [
    "def DEC_to_B5(d):\n",
    "\tresult = \"\"\n",
    "\twhile d > 0:\n",
    "\t\tr = d % 5\n",
    "\t\tq = d // 5\n",
    "\t\td = q\n",
    "\t\tresult += str(r)\n",
    "\treturn result[::-1]\n",
    "\n",
    "print(1747, DEC_to_B5(1747))\n",
    "print(int('22222', 5))\n",
    "print(DEC_to_B5(int(DEC_to_B5(1747), 5) + int('22222', 5)))\n"
   ]
  },
  {
   "cell_type": "code",
   "execution_count": 46,
   "metadata": {},
   "outputs": [],
   "source": [
    "def B5_add(a: str, b: str):\n",
    "\treturn DEC_to_B5(int(a, 5) + int(b, 5))\n"
   ]
  },
  {
   "cell_type": "code",
   "execution_count": 47,
   "metadata": {},
   "outputs": [
    {
     "name": "stdout",
     "output_type": "stream",
     "text": [
      "1=-0-2\n"
     ]
    }
   ],
   "source": [
    "def B5_sub_no_carry(a: str, b: str):\n",
    "\tresult = \"\"\n",
    "\ta_rev = a[::-1]\n",
    "\tb_rev = b[::-1]\n",
    "\tfor i, a in enumerate(a_rev):\n",
    "\t\tif i > len(b_rev) - 1:\n",
    "\t\t\tresult += a\n",
    "\t\t\tcontinue\n",
    "\t\ta = int(a)\n",
    "\t\tb = int(b_rev[i])\n",
    "\t\tc = a - b\n",
    "\t\tif c == -1:\n",
    "\t\t\tresult += '-'\n",
    "\t\telif c == -2:\n",
    "\t\t\tresult += '='\n",
    "\t\telse:\n",
    "\t\t\tresult += str(c)\n",
    "\treturn result[::-1]\n",
    "\n",
    "print(B5_sub_no_carry('101214', '22222'))\n"
   ]
  },
  {
   "cell_type": "markdown",
   "metadata": {},
   "source": [
    "https://en.m.wikipedia.org/wiki/Balanced_ternary#Conversion_from_ternary\n",
    "Unbalanced ternary can be converted to balanced ternary notation in two ways:\n",
    "\n",
    "Add 1 trit-by-trit from the first non-zero trit with carry, and then subtract 1 trit-by-trit from the same trit without borrow. For example,\n",
    "0213 + 113 = 1023, 1023 − 113 = 1T1bal3 = 7dec.\n"
   ]
  },
  {
   "cell_type": "code",
   "execution_count": 48,
   "metadata": {},
   "outputs": [
    {
     "name": "stdout",
     "output_type": "stream",
     "text": [
      "122\n",
      "1747 1=-0-2\n",
      "12111\n",
      "198 2=0=\n",
      "21\n",
      "2=01\n",
      "111\n",
      "20012\n",
      "112\n",
      "1=-1=\n",
      "1-12\n",
      "12\n",
      "1=\n",
      "122\n"
     ]
    }
   ],
   "source": [
    "def DEC_to_SNAFU(d):\n",
    "\ts = DEC_to_B5(d)\n",
    "\tcorrection = '2' * len(s)\n",
    "\ts = B5_add(s, correction)\n",
    "\treturn B5_sub_no_carry(s, correction)\n",
    "\n",
    "print(DEC_to_SNAFU(37))\n",
    "print(1747, DEC_to_SNAFU(1747))\n",
    "print(DEC_to_SNAFU( 906))\n",
    "print(198, DEC_to_SNAFU(  198))\n",
    "print(DEC_to_SNAFU(    11))\n",
    "print(DEC_to_SNAFU(  201))\n",
    "print(DEC_to_SNAFU(   31))\n",
    "print(DEC_to_SNAFU( 1257))\n",
    "print(DEC_to_SNAFU(   32))\n",
    "print(DEC_to_SNAFU( 353))\n",
    "print(DEC_to_SNAFU(  107))\n",
    "print(DEC_to_SNAFU(    7))\n",
    "print(DEC_to_SNAFU(    3))\n",
    "print(DEC_to_SNAFU(   37))\n"
   ]
  },
  {
   "cell_type": "code",
   "execution_count": 49,
   "metadata": {},
   "outputs": [
    {
     "name": "stdout",
     "output_type": "stream",
     "text": [
      "1\n",
      "2\n",
      "3\n",
      "4\n",
      "5\n",
      "6\n",
      "7\n",
      "8\n",
      "9\n",
      "10\n",
      "15\n",
      "20\n",
      "2022\n",
      "12345\n",
      "314159265\n"
     ]
    }
   ],
   "source": [
    "def SNAFU_to_DEC(s):\n",
    "\tresult = 0\n",
    "\ts = list(s)\n",
    "\tvalue = 1\n",
    "\twhile s:\n",
    "\t\tpos_value = value\n",
    "\t\tmatch s.pop():\n",
    "\t\t\tcase '1':\n",
    "\t\t\t\tpos_value *= 1\n",
    "\t\t\tcase '2':\n",
    "\t\t\t\tpos_value *= 2\n",
    "\t\t\tcase '0':\n",
    "\t\t\t\tpos_value *= 0\n",
    "\t\t\tcase '-':\n",
    "\t\t\t\tpos_value *= -1\n",
    "\t\t\tcase '=':\n",
    "\t\t\t\tpos_value *= -2\n",
    "\t\tresult += pos_value\n",
    "\t\tvalue *= 5\n",
    "\treturn result\n",
    "\n",
    "print(SNAFU_to_DEC('1'))\n",
    "print(SNAFU_to_DEC('2'))\n",
    "print(SNAFU_to_DEC('1='))\n",
    "print(SNAFU_to_DEC('1-'))\n",
    "print(SNAFU_to_DEC('10'))\n",
    "print(SNAFU_to_DEC('11'))\n",
    "print(SNAFU_to_DEC('12'))\n",
    "print(SNAFU_to_DEC('2='))\n",
    "print(SNAFU_to_DEC('2-'))\n",
    "print(SNAFU_to_DEC('20'))\n",
    "print(SNAFU_to_DEC('1=0'))\n",
    "print(SNAFU_to_DEC('1-0'))\n",
    "print(SNAFU_to_DEC('1=11-2'))\n",
    "print(SNAFU_to_DEC('1-0---0'))\n",
    "print(SNAFU_to_DEC('1121-1110-1=0'))\n"
   ]
  },
  {
   "cell_type": "code",
   "execution_count": 55,
   "metadata": {},
   "outputs": [
    {
     "data": {
      "text/plain": [
       "'20=212=1-12=200=00-1'"
      ]
     },
     "execution_count": 55,
     "metadata": {},
     "output_type": "execute_result"
    }
   ],
   "source": [
    "def solve_part1(file_name):\n",
    "\tdata = map(SNAFU_to_DEC, read_file(file_name))\n",
    "\treturn DEC_to_SNAFU(sum(data))\n",
    "\n",
    "solve_part1(EXAMPLE_FILE)\n",
    "solve_part1(INPUT_FILE)\n"
   ]
  }
 ],
 "metadata": {
  "kernelspec": {
   "display_name": "nameofthevenv",
   "language": "python",
   "name": "nameofthevenv"
  },
  "language_info": {
   "codemirror_mode": {
    "name": "ipython",
    "version": 3
   },
   "file_extension": ".py",
   "mimetype": "text/x-python",
   "name": "python",
   "nbconvert_exporter": "python",
   "pygments_lexer": "ipython3",
   "version": "3.10.10"
  },
  "orig_nbformat": 4,
  "vscode": {
   "interpreter": {
    "hash": "31f2aee4e71d21fbe5cf8b01ff0e069b9275f58929596ceb00d14d90e3e16cd6"
   }
  }
 },
 "nbformat": 4,
 "nbformat_minor": 2
}
