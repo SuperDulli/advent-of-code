{
 "cells": [
  {
   "cell_type": "code",
   "execution_count": 421,
   "metadata": {},
   "outputs": [],
   "source": [
    "def read_file(file_name):\n",
    "\twith open(file_name, \"r\") as f:\n",
    "\t\tdata = f.read().splitlines()\n",
    "\treturn data"
   ]
  },
  {
   "cell_type": "code",
   "execution_count": 422,
   "metadata": {},
   "outputs": [],
   "source": [
    "EXAMPLE_FILE = \"example\"\n",
    "INPUT_FILE = \"input\"\n",
    "directions = {(0,1): '>', (0,-1): '<', (1,0): 'v', (-1,0): '^'}"
   ]
  },
  {
   "cell_type": "code",
   "execution_count": 423,
   "metadata": {},
   "outputs": [],
   "source": [
    "import re\n",
    "\n",
    "def prepare_data(file_name):\n",
    "\tmonkey_map = {}\n",
    "\tdata = read_file(file_name)\n",
    "\tstart = None\n",
    "\tfor row, line in enumerate(data):\n",
    "\t\tif line == '':\n",
    "\t\t\tbreak\n",
    "\t\tfor column, tile in enumerate(line):\n",
    "\t\t\tif tile != ' ':\n",
    "\t\t\t\tif start == None:\n",
    "\t\t\t\t\tstart = (row, column)\n",
    "\t\t\t\tmonkey_map[(row, column)] = tile\n",
    "\tpath = data[-1]\n",
    "\tpath_re = re.compile(r'[1-9][0-9]*|R|L')\n",
    "\tpath = path_re.findall(path)\n",
    "\twidth = max([y for _,y in monkey_map.keys()])\n",
    "\theight = max([x for x,_ in monkey_map.keys()])\n",
    "\treturn monkey_map, path, start, width, height\n",
    "\n",
    "monkey_map, path, start, width, height = prepare_data(EXAMPLE_FILE)"
   ]
  },
  {
   "cell_type": "code",
   "execution_count": 424,
   "metadata": {},
   "outputs": [
    {
     "data": {
      "text/plain": [
       "['10', 'R', '5', 'L', '5', 'R', '10', 'L', '4', 'R', '5', 'L', '5']"
      ]
     },
     "execution_count": 424,
     "metadata": {},
     "output_type": "execute_result"
    }
   ],
   "source": [
    "import re\n",
    "\n",
    "path = \"10R5L5R10L4R5L5\"\n",
    "path_re = re.compile(r'[1-9][0-9]*|R|L')\n",
    "path_re.findall(path)"
   ]
  },
  {
   "cell_type": "code",
   "execution_count": 425,
   "metadata": {},
   "outputs": [
    {
     "name": "stdout",
     "output_type": "stream",
     "text": [
      "(1, 0)\n",
      "(-1, 0)\n",
      "(0, -1)\n",
      "(0, 1)\n",
      "(0, 1)\n",
      "(0, -1)\n",
      "(-1, 0)\n",
      "(1, 0)\n"
     ]
    }
   ],
   "source": [
    "def turn(facing, direction):\n",
    "\tx, y = facing\n",
    "\tif direction == 'R':\n",
    "\t\treturn (-1 * y, -1 * x) if x == 1 else (y, -1 * x)\n",
    "\telif direction == 'L':\n",
    "\t\treturn (y, x) if y == 0 else (-1 * y, x)\n",
    "\telse:\n",
    "\t\traise ValueError(direction)\n",
    "\n",
    "print(turn((0,1), 'R'))\n",
    "print(turn((0,1), 'L'))\n",
    "print(turn((1,0), 'R'))\n",
    "print(turn((1,0), 'L'))\n",
    "print(turn((-1,0), 'R'))\n",
    "print(turn((-1,0), 'L'))\n",
    "print(turn((0,-1), 'R'))\n",
    "print(turn((0,-1), 'L'))"
   ]
  },
  {
   "cell_type": "code",
   "execution_count": 426,
   "metadata": {},
   "outputs": [
    {
     "name": "stdout",
     "output_type": "stream",
     "text": [
      "12 16\n",
      "        ...#    \n",
      "        .#..    \n",
      "        #...    \n",
      "        ....    \n",
      "...#.......#    \n",
      "........#...    \n",
      "..#....#....    \n",
      "..........#.    \n",
      "        ...#....\n",
      "        .....#..\n",
      "        .#......\n",
      "        ......#.\n"
     ]
    }
   ],
   "source": [
    "def print_map(monkey_map, width, height):\n",
    "\trect = [[' ' for _ in range(width + 1)] for _ in range(height + 1)]\n",
    "\tprint(len(rect), len(rect[0]))\n",
    "\tfor (x, y), tile in sorted(monkey_map.items()):\n",
    "\t\trect[x][y] = tile\n",
    "\tfor line in rect:\n",
    "\t\tprint(''.join(line))\n",
    "print_map(monkey_map, width, height)"
   ]
  },
  {
   "cell_type": "code",
   "execution_count": 427,
   "metadata": {},
   "outputs": [
    {
     "name": "stdout",
     "output_type": "stream",
     "text": [
      "(0, 11)\n",
      "(5, 0)\n"
     ]
    }
   ],
   "source": [
    "def get_tile_pos(monkey_map, width, height, pos, facing):\n",
    "\tx, y = pos\n",
    "\tif x > height:\n",
    "\t\tx = 0\n",
    "\tif y > width:\n",
    "\t\ty = 0\n",
    "\tif x < 0:\n",
    "\t\tx = height\n",
    "\tif y < 0:\n",
    "\t\ty = width\n",
    "\tpos = (x, y)\n",
    "\tif pos in monkey_map.keys():\n",
    "\t\treturn pos\n",
    "\tpos = tuple(sum(t) for t in zip(pos, facing))\n",
    "\twhile pos not in monkey_map.keys():\n",
    "\t\tpos = tuple(sum(t) for t in zip(pos, facing))\n",
    "\t\tx, y = pos\n",
    "\t\tif x > height:\n",
    "\t\t\tx = 0\n",
    "\t\tif y > width:\n",
    "\t\t\ty = 0\n",
    "\t\tif x < 0:\n",
    "\t\t\tx = height\n",
    "\t\tif y < 0:\n",
    "\t\t\ty = width\n",
    "\t\tpos = (x, y)\n",
    "\treturn pos\n",
    "\t\n",
    "print(get_tile_pos(monkey_map, width, height, (0, 11), (1, 0)))\n",
    "print(get_tile_pos(monkey_map, width, height, (5, 12), (0, 1)))\n"
   ]
  },
  {
   "cell_type": "code",
   "execution_count": 428,
   "metadata": {},
   "outputs": [
    {
     "data": {
      "text/plain": [
       "6032"
      ]
     },
     "execution_count": 428,
     "metadata": {},
     "output_type": "execute_result"
    }
   ],
   "source": [
    "def get_password(row, column, facing):\n",
    "\tif facing == (0, 1):\n",
    "\t\tfacing = 0\n",
    "\telif facing == (1, 0):\n",
    "\t\tfacing = 1\n",
    "\telif facing == (0, -1):\n",
    "\t\tfacing = 2\n",
    "\telif facing == (-1, 0):\n",
    "\t\tfacing = 3\n",
    "\treturn 1000 * (row + 1) + 4 * (column + 1) + facing\n",
    "\n",
    "get_password(5, 7, (0, 1))"
   ]
  },
  {
   "cell_type": "code",
   "execution_count": 430,
   "metadata": {},
   "outputs": [
    {
     "name": "stdout",
     "output_type": "stream",
     "text": [
      "6032\n",
      "181128\n"
     ]
    }
   ],
   "source": [
    "def solve_part1(file_name):\n",
    "\tmonkey_map, path, pos, width, height = prepare_data(file_name)\n",
    "\tdirection = (0, 1)\n",
    "\tmonkey_map[pos] = directions[direction]\n",
    "\tfor instruction in path:\n",
    "\t\tif instruction.isnumeric():\n",
    "\t\t\tfor _ in range(int(instruction)):\n",
    "\t\t\t\tnew_pos = tuple(sum(t) for t in zip(pos, direction))\n",
    "\t\t\t\tnew_pos = get_tile_pos(monkey_map, width, height, new_pos, direction)\n",
    "\t\t\t\tif monkey_map[new_pos] == '#':\n",
    "\t\t\t\t\tmonkey_map[pos] = directions[direction]\n",
    "\t\t\t\t\tbreak\n",
    "\t\t\t\tmonkey_map[new_pos] = directions[direction]\n",
    "\t\t\t\tpos = new_pos\n",
    "\t\telse:\n",
    "\t\t\tdirection = turn(direction, instruction)\n",
    "\t\t\tmonkey_map[pos] = directions[direction]\n",
    "\treturn get_password(*pos, direction)\n",
    "\t\n",
    "print(solve_part1(EXAMPLE_FILE))\n",
    "print(solve_part1(INPUT_FILE))"
   ]
  }
 ],
 "metadata": {
  "kernelspec": {
   "display_name": "Python 3.7.5 64-bit",
   "language": "python",
   "name": "python3"
  },
  "language_info": {
   "codemirror_mode": {
    "name": "ipython",
    "version": 3
   },
   "file_extension": ".py",
   "mimetype": "text/x-python",
   "name": "python",
   "nbconvert_exporter": "python",
   "pygments_lexer": "ipython3",
   "version": "3.7.5"
  },
  "orig_nbformat": 4,
  "vscode": {
   "interpreter": {
    "hash": "31f2aee4e71d21fbe5cf8b01ff0e069b9275f58929596ceb00d14d90e3e16cd6"
   }
  }
 },
 "nbformat": 4,
 "nbformat_minor": 2
}
